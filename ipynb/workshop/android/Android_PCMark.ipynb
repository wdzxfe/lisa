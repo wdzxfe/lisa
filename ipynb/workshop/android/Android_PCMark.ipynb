{
 "cells": [
  {
   "cell_type": "markdown",
   "metadata": {},
   "source": [
    "# PCMark benchmark on Android"
   ]
  },
  {
   "cell_type": "markdown",
   "metadata": {},
   "source": [
    "The goal of this experiment is to run benchmarks on a Pixel device running Android with an EAS kernel and collect results. The analysis phase will consist in comparing EAS with other schedulers, that is comparing *sched* governor with:\n",
    "\n",
    "    - interactive\n",
    "    - performance\n",
    "    - powersave\n",
    "    - ondemand\n",
    "    \n",
    "The benchmark we will be using is ***PCMark*** (https://www.futuremark.com/benchmarks/pcmark-android). You will need to **manually install** the app on the Android device in order to run this Notebook.\n",
    "\n",
    "When opinening PCMark for the first time you will need to Install the work benchmark from inside the app."
   ]
  },
  {
   "cell_type": "code",
   "execution_count": 1,
   "metadata": {},
   "outputs": [
    {
     "name": "stderr",
     "output_type": "stream",
     "text": [
      "2017-09-06 07:59:57,459 INFO    : root         : Using LISA logging configuration:\n",
      "2017-09-06 07:59:57,461 INFO    : root         :   /home/lisa/lisa-github/logging.conf\n"
     ]
    }
   ],
   "source": [
    "import logging\n",
    "from conf import LisaLogging\n",
    "LisaLogging.setup()"
   ]
  },
  {
   "cell_type": "code",
   "execution_count": 2,
   "metadata": {},
   "outputs": [
    {
     "name": "stdout",
     "output_type": "stream",
     "text": [
      "Populating the interactive namespace from numpy and matplotlib\n"
     ]
    }
   ],
   "source": [
    "%pylab inline\n",
    "\n",
    "import copy\n",
    "import os\n",
    "from time import sleep\n",
    "from subprocess import Popen\n",
    "import pandas as pd\n",
    "\n",
    "# Support to access the remote target\n",
    "import devlib\n",
    "from env import TestEnv\n",
    "\n",
    "# Support for trace events analysis\n",
    "from trace import Trace\n",
    "\n",
    "# Suport for FTrace events parsing and visualization\n",
    "import trappy"
   ]
  },
  {
   "cell_type": "markdown",
   "metadata": {},
   "source": [
    "## Test environment setup\n",
    "\n",
    "For more details on this please check out **examples/utils/testenv_example.ipynb**."
   ]
  },
  {
   "cell_type": "markdown",
   "metadata": {},
   "source": [
    "In case more than one Android device are conencted to the host, you must specify the ID of the device you want to target in `my_target_conf`. Run `adb devices` on your host to get the ID. Also, you have to specify the path to your android sdk in ANDROID_HOME."
   ]
  },
  {
   "cell_type": "code",
   "execution_count": 3,
   "metadata": {
    "collapsed": true
   },
   "outputs": [],
   "source": [
    "# Setup a target configuration\n",
    "my_target_conf = {\n",
    "    \n",
    "#     # Target platform and board\n",
    "#     \"platform\"    : 'android',\n",
    "\n",
    "#     # Add target support\n",
    "#     \"board\" : 'pixel',\n",
    "    \n",
    "#     # Device ID\n",
    "#     \"device\" : \"HT6670300102\",\n",
    "    \n",
    "#     \"ANDROID_HOME\" : \"/home/vagrant/lisa/tools/android-sdk-linux/\",\n",
    "    \n",
    "    \"platform\"    : 'android',\n",
    "    \"board\"       : \"hikey960\",\n",
    "    \"device\" : \"0123456789ABCDEF\",\n",
    "    \n",
    "    \"ANDROID_HOME\" : \"/home/lisa/android-sdk\",\n",
    "    \"rtapp-calib\" : {\"0\": 302, \"1\": 302, \"2\": 304, \"3\": 304, \"4\": 136, \"5\": 137, \"6\": 136, \"7\": 136},\n",
    "\n",
    "     \"emeter\" : {\n",
    "        \"instrument\" : \"acme\",\n",
    "        \"conf\" : {\n",
    "            # Absolute path to the iio-capture binary on the host\n",
    "            'iio-capture' : '/usr/bin/iio-capture',\n",
    "            # Default host name of the BeagleBone Black\n",
    "            'ip_address'     : '10.169.36.36',\n",
    "        },\n",
    "        \"channel_map\" : {\n",
    "            \"Device0\" : 0, # iio:device0\n",
    "            \"Device1\" : 1, # iio:device0\n",
    "        }\n",
    "    },\n",
    "    # Define devlib modules to load\n",
    "    \"modules\"     : [\n",
    "        'cpufreq'       # enable CPUFreq support\n",
    "    ],\n",
    "}"
   ]
  },
  {
   "cell_type": "code",
   "execution_count": 4,
   "metadata": {
    "collapsed": true,
    "scrolled": false
   },
   "outputs": [],
   "source": [
    "my_tests_conf = {\n",
    "\n",
    "    # Folder where all the results will be collected\n",
    "    \"results_dir\" : \"Android_PCMark\",\n",
    "\n",
    "    # Platform configurations to test\n",
    "    \"confs\" : [\n",
    "        {\n",
    "            \"tag\"            : \"pcmark\",\n",
    "            \"flags\"          : \"ftrace\",           # Enable FTrace events\n",
    "            \"sched_features\" : \"ENERGY_AWARE\",     # enable EAS\n",
    "        },\n",
    "    ],\n",
    "}"
   ]
  },
  {
   "cell_type": "code",
   "execution_count": 6,
   "metadata": {},
   "outputs": [
    {
     "name": "stderr",
     "output_type": "stream",
     "text": [
      "2017-09-06 08:00:37,625 INFO    : TestEnv      : Using base path: /home/lisa/lisa-github\n",
      "2017-09-06 08:00:37,627 INFO    : TestEnv      : Loading custom (inline) target configuration\n",
      "2017-09-06 08:00:37,628 INFO    : TestEnv      : Loading custom (inline) test configuration\n",
      "2017-09-06 08:00:37,630 WARNING : TestEnv      : Wipe previous contents of the results folder:\n",
      "2017-09-06 08:00:37,631 WARNING : TestEnv      :    /home/lisa/lisa-github/results/Android_PCMark\n",
      "2017-09-06 08:00:37,633 INFO    : TestEnv      : External tools using:\n",
      "2017-09-06 08:00:37,634 INFO    : TestEnv      :    ANDROID_HOME: /home/lisa/android-sdk\n",
      "2017-09-06 08:00:37,635 INFO    : TestEnv      :    CATAPULT_HOME: /home/lisa/lisa-github/tools/catapult\n",
      "2017-09-06 08:00:37,637 INFO    : TestEnv      : Devlib modules to load: ['bl', 'cpuidle', 'cpufreq']\n",
      "2017-09-06 08:00:37,638 INFO    : TestEnv      : Connecting Android target [0123456789ABCDEF]\n",
      "2017-09-06 08:00:37,639 INFO    : TestEnv      : Connection settings:\n",
      "2017-09-06 08:00:37,640 INFO    : TestEnv      :    {'device': '0123456789ABCDEF'}\n",
      "2017-09-06 08:00:38,019 INFO    : TestEnv      : Initializing target workdir:\n",
      "2017-09-06 08:00:38,020 INFO    : TestEnv      :    /data/local/tmp/devlib-target\n",
      "2017-09-06 08:00:38,499 INFO    : TestEnv      : Attempting to read energy model from target\n",
      "2017-09-06 08:00:40,254 INFO    : TestEnv      : Topology:\n",
      "2017-09-06 08:00:40,255 INFO    : TestEnv      :    [[0, 1, 2, 3], [4, 5, 6, 7]]\n",
      "2017-09-06 08:00:40,320 INFO    : TestEnv      : Loading default EM:\n",
      "2017-09-06 08:00:40,322 INFO    : TestEnv      :    /home/lisa/lisa-github/libs/utils/platforms/hikey960.json\n",
      "2017-09-06 08:00:40,348 INFO    : EnergyMeter  : ACME configuration:\n",
      "2017-09-06 08:00:40,349 INFO    : EnergyMeter  :     binary: /usr/bin/iio-capture\n",
      "2017-09-06 08:00:40,351 INFO    : EnergyMeter  :     device: 10.169.36.36\n",
      "2017-09-06 08:00:40,352 INFO    : EnergyMeter  :   channels:\n",
      "2017-09-06 08:00:40,353 INFO    : EnergyMeter  :      Device1 (iio:device1)\n",
      "2017-09-06 08:00:40,354 INFO    : EnergyMeter  :      Device0 (iio:device0)\n",
      "2017-09-06 08:00:40,365 INFO    : TestEnv      : Set results folder to:\n",
      "2017-09-06 08:00:40,367 INFO    : TestEnv      :    /home/lisa/lisa-github/results/Android_PCMark\n",
      "2017-09-06 08:00:40,368 INFO    : TestEnv      : Experiment results available also in:\n",
      "2017-09-06 08:00:40,369 INFO    : TestEnv      :    /home/lisa/lisa-github/results_latest\n"
     ]
    }
   ],
   "source": [
    "# Initialize a test environment using:\n",
    "# the provided target configuration (my_target_conf)\n",
    "# the provided test configuration   (my_test_conf)\n",
    "te = TestEnv(target_conf=my_target_conf, test_conf=my_tests_conf)\n",
    "target = te.target"
   ]
  },
  {
   "cell_type": "markdown",
   "metadata": {},
   "source": [
    "## Support Functions"
   ]
  },
  {
   "cell_type": "markdown",
   "metadata": {},
   "source": [
    "This set of support functions will help us running the benchmark using different CPUFreq governors."
   ]
  },
  {
   "cell_type": "code",
   "execution_count": 7,
   "metadata": {
    "collapsed": true
   },
   "outputs": [],
   "source": [
    "def set_performance():\n",
    "    target.cpufreq.set_all_governors('performance')\n",
    "\n",
    "def set_powersave():\n",
    "    target.cpufreq.set_all_governors('powersave')\n",
    "\n",
    "def set_interactive():\n",
    "    target.cpufreq.set_all_governors('interactive')\n",
    "\n",
    "def set_sched():\n",
    "    target.cpufreq.set_all_governors('sched')\n",
    "\n",
    "def set_ondemand():\n",
    "    target.cpufreq.set_all_governors('ondemand')\n",
    "    \n",
    "    for cpu in target.list_online_cpus():\n",
    "        tunables = target.cpufreq.get_governor_tunables(cpu)\n",
    "        target.cpufreq.set_governor_tunables(\n",
    "            cpu,\n",
    "            'ondemand',\n",
    "            **{'sampling_rate' : tunables['sampling_rate_min']}\n",
    "        )"
   ]
  },
  {
   "cell_type": "code",
   "execution_count": 8,
   "metadata": {
    "collapsed": true
   },
   "outputs": [],
   "source": [
    "# CPUFreq configurations to test\n",
    "confs = {\n",
    "    'performance' : {\n",
    "        'label' : 'prf',\n",
    "        'set' :  set_performance,\n",
    "    },\n",
    "    #'powersave' : {\n",
    "    #    'label' : 'pws',\n",
    "    #    'set' :  set_powersave,\n",
    "    #},\n",
    "     'interactive' : {\n",
    "         'label' : 'int',\n",
    "         'set' :  set_interactive,\n",
    "     },\n",
    "    'sched' : {\n",
    "       'label' : 'sch',\n",
    "       'set' :  set_sched,\n",
    "    },\n",
    "    #'ondemand' : {\n",
    "    #    'label' : 'odm',\n",
    "    #    'set' :  set_ondemand,\n",
    "    #}\n",
    "}\n",
    "\n",
    "# The set of results for each comparison test\n",
    "results = {}"
   ]
  },
  {
   "cell_type": "code",
   "execution_count": 9,
   "metadata": {
    "collapsed": true
   },
   "outputs": [],
   "source": [
    "#Check if PCMark si available on the device\n",
    "\n",
    "def check_packages(pkgname):\n",
    "    try:\n",
    "        output = target.execute('pm list packages -f | grep -i {}'.format(pkgname))\n",
    "    except Exception:\n",
    "        raise RuntimeError('Package: [{}] not availabe on target'.format(pkgname))\n",
    "\n",
    "# Check for specified PKG name being available on target\n",
    "check_packages('com.futuremark.pcmark.android.benchmark')"
   ]
  },
  {
   "cell_type": "code",
   "execution_count": 10,
   "metadata": {},
   "outputs": [
    {
     "name": "stderr",
     "output_type": "stream",
     "text": [
      "2017-09-06 08:01:35,595 INFO    : Screen       : Force manual orientation\n",
      "2017-09-06 08:01:35,597 INFO    : Screen       : Set orientation: PORTRAIT\n",
      "2017-09-06 08:01:36,699 INFO    : Screen       : Set brightness: 0%\n",
      "2017-09-06 08:01:37,246 INFO    : Screen       : Force manual orientation\n",
      "2017-09-06 08:01:37,247 INFO    : Screen       : Set orientation: PORTRAIT\n"
     ]
    },
    {
     "data": {
      "text/plain": [
       "''"
      ]
     },
     "execution_count": 10,
     "metadata": {},
     "output_type": "execute_result"
    }
   ],
   "source": [
    "from android import Screen\n",
    "\n",
    "target.execute('am force-stop {}'.format(\"com.futuremark.pcmark.android.benchmark\"))\n",
    "target.execute('input keyevent 82')\n",
    "Screen.set_orientation(target, auto=False, portrait=True)\n",
    "Screen.set_brightness(target, auto=False, percent=0)\n",
    "\n",
    "# Start PCMark on the target device\n",
    "target.execute('monkey --pct-syskeys 0 -p com.futuremark.pcmark.android.benchmark -c android.intent.category.LAUNCHER 1')\n",
    "# Wait few seconds to make sure the app is loaded\n",
    "Screen.set_orientation(target, auto=False, portrait=True)\n",
    "\n",
    "# Wait few seconds to make sure the app is loaded\n",
    "sleep(5)\n",
    "    \n",
    "\n",
    "# Run performance workload (assume screen is vertical)\n",
    "target.execute('input tap 1205 515')"
   ]
  },
  {
   "cell_type": "code",
   "execution_count": 11,
   "metadata": {
    "collapsed": true
   },
   "outputs": [],
   "source": [
    "# Function that helps run a PCMark experiment\n",
    "from android import Screen\n",
    "\n",
    "def pcmark_run(exp_dir):\n",
    "    # Unlock device screen (assume no password required)\n",
    "    target.execute('am force-stop {}'.format(\"com.futuremark.pcmark.android.benchmark\"))\n",
    "    target.execute('input keyevent 82')\n",
    "    Screen.set_brightness(target, auto=False, percent=0)\n",
    "\n",
    "    # Start PCMark on the target device\n",
    "    target.execute('monkey --pct-syskeys 0 -p com.futuremark.pcmark.android.benchmark -c android.intent.category.LAUNCHER 1')\n",
    "    Screen.set_orientation(target, auto=False, portrait=True)\n",
    "\n",
    "    # Wait few seconds to make sure the app is loaded\n",
    "    sleep(5)\n",
    "    \n",
    "    # Flush entire log\n",
    "    target.clear_logcat()\n",
    "    \n",
    "    # Run performance workload (assume screen is vertical)\n",
    "    target.execute('input tap 1205 515')\n",
    "    # Wait for completion (10 minutes in total) and collect log\n",
    "    log_file = os.path.join(exp_dir, 'log.txt')\n",
    "    # Wait 5 minutes\n",
    "    sleep(300)\n",
    "    # Start collecting the log\n",
    "    with open(log_file, 'w') as log:\n",
    "        logcat = Popen(['adb logcat', 'com.futuremark.pcmandroid.VirtualMachineState:*', '*:S'],\n",
    "                       stdout=log,\n",
    "                       shell=True)\n",
    "        # Wait additional two minutes for benchmark to complete\n",
    "        sleep(300)\n",
    "\n",
    "        # Terminate logcat\n",
    "        logcat.kill()\n",
    "\n",
    "    # Get scores from logcat\n",
    "    score_file = os.path.join(exp_dir, 'score.txt')\n",
    "    os.popen('grep -o \"PCMA_.*_SCORE .*\" {} | sed \"s/ = / /g\" | sort -u > {}'.format(log_file, score_file))\n",
    "    \n",
    "    # Close application\n",
    "    target.execute('am force-stop com.futuremark.pcmark.android.benchmark')\n",
    "    \n",
    "    return score_file"
   ]
  },
  {
   "cell_type": "code",
   "execution_count": 12,
   "metadata": {
    "collapsed": true
   },
   "outputs": [],
   "source": [
    "# Function that helps run PCMark for different governors\n",
    "\n",
    "def experiment(governor, exp_dir):\n",
    "    os.system('mkdir -p {}'.format(exp_dir));\n",
    "\n",
    "    logging.info('------------------------')\n",
    "    logging.info('Run workload using %s governor', governor)\n",
    "    confs[governor]['set']()\n",
    "\n",
    "    ### Run the benchmark ###\n",
    "    score_file = pcmark_run(exp_dir)\n",
    "    \n",
    "    # Save the score as a dictionary\n",
    "    scores = dict()\n",
    "    with open(score_file, 'r') as f:\n",
    "        lines = f.readlines()\n",
    "        for l in lines:\n",
    "            info = l.split()\n",
    "            scores.update({info[0] : float(info[1])})\n",
    "    \n",
    "    # return all the experiment data\n",
    "    return {\n",
    "        'dir'        : exp_dir,\n",
    "        'scores'     : scores,\n",
    "    }"
   ]
  },
  {
   "cell_type": "markdown",
   "metadata": {},
   "source": [
    "## Run PCMark and collect scores"
   ]
  },
  {
   "cell_type": "code",
   "execution_count": null,
   "metadata": {
    "scrolled": true
   },
   "outputs": [
    {
     "name": "stderr",
     "output_type": "stream",
     "text": [
      "2017-09-06 08:01:47,616 INFO    : root         : ------------------------\n",
      "2017-09-06 08:01:47,618 INFO    : root         : Run workload using performance governor\n",
      "2017-09-06 08:01:48,977 INFO    : Screen       : Set brightness: 0%\n",
      "2017-09-06 08:01:49,326 INFO    : Screen       : Force manual orientation\n",
      "2017-09-06 08:01:49,328 INFO    : Screen       : Set orientation: PORTRAIT\n"
     ]
    }
   ],
   "source": [
    "# Run the benchmark in all the configured governors\n",
    "for governor in confs:\n",
    "    test_dir = os.path.join(te.res_dir, governor)\n",
    "    res = experiment(governor, test_dir)\n",
    "    results[governor] = copy.deepcopy(res)\n",
    "    print governor"
   ]
  },
  {
   "cell_type": "markdown",
   "metadata": {},
   "source": [
    "After running the benchmark for the specified governors we can show and plot the scores:"
   ]
  },
  {
   "cell_type": "code",
   "execution_count": 13,
   "metadata": {},
   "outputs": [
    {
     "data": {
      "text/html": [
       "<div>\n",
       "<style>\n",
       "    .dataframe thead tr:only-child th {\n",
       "        text-align: right;\n",
       "    }\n",
       "\n",
       "    .dataframe thead th {\n",
       "        text-align: left;\n",
       "    }\n",
       "\n",
       "    .dataframe tbody tr th {\n",
       "        vertical-align: top;\n",
       "    }\n",
       "</style>\n",
       "<table border=\"1\" class=\"dataframe\">\n",
       "  <thead>\n",
       "    <tr style=\"text-align: right;\">\n",
       "      <th></th>\n",
       "      <th>interactive</th>\n",
       "      <th>performance</th>\n",
       "      <th>sched</th>\n",
       "    </tr>\n",
       "  </thead>\n",
       "  <tbody>\n",
       "    <tr>\n",
       "      <th>PCMA_DATA_MANIPULATION_SCORE</th>\n",
       "      <td>4717.055232</td>\n",
       "      <td>4659.908593</td>\n",
       "      <td>4720.651882</td>\n",
       "    </tr>\n",
       "    <tr>\n",
       "      <th>PCMA_PHOTO_EDITING_V2_SCORE</th>\n",
       "      <td>10370.432528</td>\n",
       "      <td>12498.430583</td>\n",
       "      <td>10252.840639</td>\n",
       "    </tr>\n",
       "    <tr>\n",
       "      <th>PCMA_VIDEO_EDITING_SCORE</th>\n",
       "      <td>0.000000</td>\n",
       "      <td>0.000000</td>\n",
       "      <td>0.000000</td>\n",
       "    </tr>\n",
       "    <tr>\n",
       "      <th>PCMA_WEB_V2_SCORE</th>\n",
       "      <td>6515.861100</td>\n",
       "      <td>7627.209706</td>\n",
       "      <td>6906.903889</td>\n",
       "    </tr>\n",
       "    <tr>\n",
       "      <th>PCMA_WORK_V2_SCORE</th>\n",
       "      <td>0.000000</td>\n",
       "      <td>0.000000</td>\n",
       "      <td>0.000000</td>\n",
       "    </tr>\n",
       "    <tr>\n",
       "      <th>PCMA_WRITING_V2_SCORE</th>\n",
       "      <td>5175.439252</td>\n",
       "      <td>6342.160951</td>\n",
       "      <td>5669.346794</td>\n",
       "    </tr>\n",
       "  </tbody>\n",
       "</table>\n",
       "</div>"
      ],
      "text/plain": [
       "                               interactive   performance         sched\n",
       "PCMA_DATA_MANIPULATION_SCORE   4717.055232   4659.908593   4720.651882\n",
       "PCMA_PHOTO_EDITING_V2_SCORE   10370.432528  12498.430583  10252.840639\n",
       "PCMA_VIDEO_EDITING_SCORE          0.000000      0.000000      0.000000\n",
       "PCMA_WEB_V2_SCORE              6515.861100   7627.209706   6906.903889\n",
       "PCMA_WORK_V2_SCORE                0.000000      0.000000      0.000000\n",
       "PCMA_WRITING_V2_SCORE          5175.439252   6342.160951   5669.346794"
      ]
     },
     "execution_count": 13,
     "metadata": {},
     "output_type": "execute_result"
    }
   ],
   "source": [
    "# Create results DataFrame\n",
    "data = {}\n",
    "for governor in confs:\n",
    "    data[governor] = {}\n",
    "    for score_name, score in results[governor]['scores'].iteritems():\n",
    "        data[governor][score_name] = score\n",
    "\n",
    "df = pd.DataFrame.from_dict(data)\n",
    "df"
   ]
  },
  {
   "cell_type": "code",
   "execution_count": 14,
   "metadata": {},
   "outputs": [
    {
     "data": {
      "image/png": "[encoded data removed]",
      "text/plain": [
       "<matplotlib.figure.Figure at 0x7f7a3d10fd90>"
      ]
     },
     "metadata": {},
     "output_type": "display_data"
    }
   ],
   "source": [
    "df.plot(kind='bar', rot=45, figsize=(16,8),\n",
    "        title='PCMark scores vs SchedFreq governors');"
   ]
  },
  {
   "cell_type": "code",
   "execution_count": null,
   "metadata": {
    "collapsed": true
   },
   "outputs": [],
   "source": []
  }
 ],
 "metadata": {
  "kernelspec": {
   "display_name": "Python 2",
   "language": "python",
   "name": "python2"
  },
  "language_info": {
   "codemirror_mode": {
    "name": "ipython",
    "version": 2
   },
   "file_extension": ".py",
   "mimetype": "text/x-python",
   "name": "python",
   "nbconvert_exporter": "python",
   "pygments_lexer": "ipython2",
   "version": "2.7.12"
  },
  "toc": {
   "toc_cell": false,
   "toc_number_sections": true,
   "toc_threshold": 6,
   "toc_window_display": false
  }
 },
 "nbformat": 4,
 "nbformat_minor": 1
}
